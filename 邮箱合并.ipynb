{
 "cells": [
  {
   "cell_type": "code",
   "execution_count": 26,
   "metadata": {},
   "outputs": [],
   "source": [
    "import os\n",
    "import re\n",
    "import shutil\n",
    "import pandas as pd"
   ]
  },
  {
   "cell_type": "code",
   "execution_count": 75,
   "metadata": {},
   "outputs": [],
   "source": [
    "file_path = r'D:\\京\\邮箱1卢\\demo' # 文件夹路径\n",
    "file_list = os.listdir(file_path)  # 获取文件夹下所有文件的名称，包括后缀\n",
    "file_list\n",
    "\n",
    "#复制第一个至文件夹，存放结果\n",
    "filepath1 = os.path.join(file_path,file_list[0])\n",
    "shutil.copytree(filepath1, r'D:\\京\\邮箱1卢\\result')\n",
    "\n",
    "#合并文本函数\n",
    "def get(name, info):\n",
    "    # 写入新文件夹\n",
    "    with open(r\"D:\\京\\邮箱1卢\\result\\{}\\mail\\maillogins.txt\".format(name), \"a\") as f:\n",
    "        f.write(\"\\n\".join(info))\n",
    "\n",
    "# 原文件夹\n",
    "\n"
   ]
  },
  {
   "cell_type": "code",
   "execution_count": 76,
   "metadata": {},
   "outputs": [],
   "source": [
    "#合并同名文件夹函数\n",
    "def set(dir_qq,dir_mail,path_source):\n",
    "    # 目标文件夹\n",
    "    determination = r\"D:\\京\\邮箱1卢\\result\\{}\\mail\\{}\".format(dir_qq,dir_mail)\n",
    "    if not os.path.exists(determination):\n",
    "        os.makedirs(determination)\n",
    "    source = path_source\n",
    "    #if:\n",
    "    #    os.path.isfile(source)\n",
    "    shutil.copy(source, determination)\n",
    "    \n"
   ]
  },
  {
   "cell_type": "code",
   "execution_count": 78,
   "metadata": {},
   "outputs": [],
   "source": [
    "path = r'D:\\京\\邮箱1卢\\demo' # 文件夹路径\n",
    "lists = os.listdir(path)\n",
    "for l in lists[1:]:#从第二项开始（第一项已经复制做结果数据文件了）\n",
    "    # 一级子文件夹路径--1\n",
    "    p = os.path.join(path, l)\n",
    "    ps = os.listdir(p)\n",
    "    for p1 in ps:\n",
    "        # 二级文件路径--qq.com\n",
    "        p2 = os.path.join(p, p1)\n",
    "        ps2 = os.listdir(p2)\n",
    "        for i in ps2:\n",
    "            #三级文件路径 --mail\n",
    "            p3 = os.path.join(p2, i)\n",
    "            ps3 = os.listdir(p3)\n",
    "            for j in ps3:\n",
    "                #四级文件\n",
    "                p4 = os.path.join(p3, j)\n",
    "                if p4.endswith(\".txt\"): \n",
    "                    with open(p4, \"r\") as f:\n",
    "                        lines = f.readlines()\n",
    "                        get(p1, lines)\n",
    "                else:\n",
    "                    ps4 = os.listdir(p4)\n",
    "                    for file in ps4:\n",
    "                        p5 = os.path.join(p4, file)\n",
    "                        set(p1,j,p5)\n",
    "                        \n",
    "\n",
    "\n",
    "\n",
    "                 \n",
    "        \n"
   ]
  },
  {
   "cell_type": "code",
   "execution_count": null,
   "metadata": {},
   "outputs": [],
   "source": []
  }
 ],
 "metadata": {
  "kernelspec": {
   "display_name": "Python 3",
   "language": "python",
   "name": "python3"
  },
  "language_info": {
   "codemirror_mode": {
    "name": "ipython",
    "version": 3
   },
   "file_extension": ".py",
   "mimetype": "text/x-python",
   "name": "python",
   "nbconvert_exporter": "python",
   "pygments_lexer": "ipython3",
   "version": "3.7.6"
  }
 },
 "nbformat": 4,
 "nbformat_minor": 4
}
